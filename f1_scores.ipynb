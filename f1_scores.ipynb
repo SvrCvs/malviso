{
 "cells": [
  {
   "cell_type": "code",
   "execution_count": 11,
   "metadata": {},
   "outputs": [],
   "source": [
    "import os\n",
    "import cv2\n",
    "import numpy as np\n",
    "import matplotlib.pyplot as plt\n",
    "from PIL import Image\n",
    "from sklearn.model_selection import train_test_split\n",
    "from sklearn.ensemble import RandomForestClassifier\n",
    "%matplotlib inline"
   ]
  },
  {
   "cell_type": "code",
   "execution_count": 12,
   "metadata": {},
   "outputs": [],
   "source": [
    "# Load\n",
    "X = np.load('/home/filsave/malviso/X.npy', allow_pickle=True)\n",
    "y = np.load('/home/filsave/malviso/y.npy', allow_pickle=True)"
   ]
  },
  {
   "cell_type": "code",
   "execution_count": 13,
   "metadata": {},
   "outputs": [],
   "source": [
    "def get_values(nfeatures, X_train, X_test, y_train, y_test):\n",
    "    detector = cv2.ORB_create(nfeatures)\n",
    "\n",
    "    total_kps_train= []\n",
    "    total_des_train= []\n",
    "    total_kps_test= []\n",
    "    total_des_test= []\n",
    "\n",
    "    for image in X_train:\n",
    "        query_kps, query_des = detector.detectAndCompute(image, None)\n",
    "        total_kps_train.append(query_kps)\n",
    "        total_des_train.append(query_des)\n",
    "\n",
    "    for image in X_test:\n",
    "        query_kps, query_des = detector.detectAndCompute(image, None)\n",
    "        total_kps_test.append(query_kps)\n",
    "        total_des_test.append(query_des)\n",
    "\n",
    "\n",
    "    null_indexes_train = []\n",
    "\n",
    "    for i,e in enumerate(total_des_train):\n",
    "        if e is None:\n",
    "            null_indexes_train.append(i)\n",
    "\n",
    "    total_des_train = np.delete(total_des_train, null_indexes_train).tolist()\n",
    "    y_train = np.delete(y_train,null_indexes_train).tolist()\n",
    "\n",
    "\n",
    "\n",
    "    null_indexes_test = []\n",
    "\n",
    "    for i,e in enumerate(total_des_test):\n",
    "        if e is None:\n",
    "            null_indexes_test.append(i)\n",
    "\n",
    "    total_des_test = np.delete(total_des_test, null_indexes_test).tolist() \n",
    "    y_test = np.delete(y_test,null_indexes_test).tolist()\n",
    "\n",
    "\n",
    "\n",
    "    max0 = 0\n",
    "    for des in total_des_train:\n",
    "        if des is not None:\n",
    "            if des.shape[0] > max0:\n",
    "                max0 = des.shape[0]\n",
    "\n",
    "    max1=0\n",
    "    for des in total_des_test:\n",
    "        if des is not None:\n",
    "            if des.shape[0] > max1:\n",
    "                max1 = des.shape[0]\n",
    "        \n",
    "    if max1 > max0:\n",
    "        max0=max1\n",
    "\n",
    "\n",
    "\n",
    "    i = 0\n",
    "    for des in total_des_train:\n",
    "        padding_to_add = max0 - des.shape[0]\n",
    "        if padding_to_add != 0:\n",
    "            pad_list = []\n",
    "            for k in range(32):\n",
    "                pad_list.append(0)\n",
    "            for j in range(padding_to_add):\n",
    "                total_des_train[i] = np.append(total_des_train[i], pad_list)\n",
    "            total_des_train[i] = np.array(total_des_train[i]).reshape(max0,32)\n",
    "        i += 1\n",
    "\n",
    "    i = 0\n",
    "    for des in total_des_test:\n",
    "        padding_to_add = max0 - des.shape[0]\n",
    "        if padding_to_add != 0:\n",
    "            pad_list = []\n",
    "            for k in range(32):\n",
    "                pad_list.append(0)\n",
    "            for j in range(padding_to_add):\n",
    "                total_des_test[i] = np.append(total_des_test[i], pad_list)\n",
    "            total_des_test[i] = np.array(total_des_test[i]).reshape(max0,32)\n",
    "        i += 1\n",
    "\n",
    "\n",
    "    i = 0\n",
    "    for des in total_des_train:\n",
    "        total_des_train[i] = np.hstack(des)\n",
    "        i += 1\n",
    "\n",
    "    i = 0\n",
    "    for des in total_des_test:\n",
    "        total_des_test[i] = np.hstack(des)\n",
    "        i += 1\n",
    "\n",
    "    return total_des_train, total_des_test, y_train, y_test"
   ]
  },
  {
   "cell_type": "code",
   "execution_count": 15,
   "metadata": {},
   "outputs": [
    {
     "name": "stdout",
     "output_type": "stream",
     "text": [
      "25  f1_score accuracy:  0.733364610878899\n",
      "26  f1_score accuracy:  0.7319377215707663\n",
      "27  f1_score accuracy:  0.7412207913022792\n",
      "28  f1_score accuracy:  0.7450296740126208\n",
      "29  f1_score accuracy:  0.7290896564375042\n"
     ]
    }
   ],
   "source": [
    "from sklearn.metrics import f1_score\n",
    "\n",
    "for par in range(25,45):\n",
    "    X_train, X_test, y_train, y_test = train_test_split(X, y, test_size=0.2, random_state=42)\n",
    "    \n",
    "    total_des_train, total_des_test, y_train, y_test = get_values(par, X_train, X_test, y_train, y_test)\n",
    "\n",
    "    clf = RandomForestClassifier(n_estimators=200, random_state=42)\n",
    "    clf.fit(total_des_train, y_train)\n",
    "\n",
    "    # predict the target values for the test data\n",
    "    y_pred = clf.predict(total_des_test)\n",
    "\n",
    "    f1 = f1_score(y_test, y_pred, average='macro')\n",
    "    print(par, \" f1_score accuracy: \", f1)"
   ]
  }
 ],
 "metadata": {
  "kernelspec": {
   "display_name": "Python 3",
   "language": "python",
   "name": "python3"
  },
  "language_info": {
   "codemirror_mode": {
    "name": "ipython",
    "version": 3
   },
   "file_extension": ".py",
   "mimetype": "text/x-python",
   "name": "python",
   "nbconvert_exporter": "python",
   "pygments_lexer": "ipython3",
   "version": "3.8.10"
  },
  "orig_nbformat": 4,
  "vscode": {
   "interpreter": {
    "hash": "e7370f93d1d0cde622a1f8e1c04877d8463912d04d973331ad4851f04de6915a"
   }
  }
 },
 "nbformat": 4,
 "nbformat_minor": 2
}
