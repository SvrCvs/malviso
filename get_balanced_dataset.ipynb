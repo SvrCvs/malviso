{
 "cells": [
  {
   "cell_type": "code",
   "execution_count": 1,
   "metadata": {},
   "outputs": [],
   "source": [
    "import os\n",
    "import cv2\n",
    "import numpy as np\n",
    "import matplotlib.pyplot as plt\n",
    "from PIL import Image\n",
    "from sklearn.model_selection import train_test_split\n",
    "from sklearn.ensemble import RandomForestClassifier\n",
    "%matplotlib inline"
   ]
  },
  {
   "cell_type": "code",
   "execution_count": 2,
   "metadata": {},
   "outputs": [],
   "source": [
    "# Define the path to the two folders\n",
    "folder_1_path = \"dataset/byteplot/malicious/\"\n",
    "folder_2_path = \"dataset/byteplot/benign/benign/\"\n",
    "folder_3_path = \"dataset/byteplot/benign/benign_edu/\"\n",
    "\n",
    "# Read the images in each folder and store them in a list\n",
    "images_1 = [cv2.imread(os.path.join(folder_1_path, image_file), cv2.IMREAD_GRAYSCALE) \\\n",
    "            for image_file in os.listdir(folder_1_path)]\n",
    "images_2 = [cv2.imread(os.path.join(folder_2_path, image_file), cv2.IMREAD_GRAYSCALE) \\\n",
    "            for image_file in os.listdir(folder_2_path)]\n",
    "images_3 = [cv2.imread(os.path.join(folder_3_path, image_file), cv2.IMREAD_GRAYSCALE) \\\n",
    "            for image_file in os.listdir(folder_3_path)]"
   ]
  },
  {
   "cell_type": "code",
   "execution_count": 5,
   "metadata": {},
   "outputs": [],
   "source": [
    "import random\n",
    "\n",
    "random.seed(42)\n",
    "\n",
    "random.shuffle(images_1)\n",
    "\n",
    "max_len_benign = len(images_2)+len(images_3)\n",
    "\n",
    "images_1 = images_1[:max_len_benign]"
   ]
  },
  {
   "cell_type": "code",
   "execution_count": 6,
   "metadata": {},
   "outputs": [],
   "source": [
    "# Label each image with the respective label (1 for total_des_trainfolder_1, 2 for folder_2)\n",
    "labels_1 = [0 for _ in range(len(images_1))]\n",
    "labels_2 = [1 for _ in range(len(images_2)+len(images_3))]\n",
    "\n",
    "# Combine the images and labels into a single dataset\n",
    "images = images_1 + images_2 + images_3\n",
    "labels = labels_1 + labels_2\n",
    "\n",
    "X = images\n",
    "y = labels"
   ]
  },
  {
   "cell_type": "code",
   "execution_count": 7,
   "metadata": {},
   "outputs": [],
   "source": [
    "# Save into numpy objects\n",
    "with open('X.npy','wb') as f:\n",
    "    np.save(f,X)"
   ]
  },
  {
   "cell_type": "code",
   "execution_count": 12,
   "metadata": {},
   "outputs": [],
   "source": [
    "with open('y.npy', 'wb') as f:\n",
    "    np.save(f,y)"
   ]
  },
  {
   "cell_type": "code",
   "execution_count": 13,
   "metadata": {},
   "outputs": [],
   "source": [
    "# Load\n",
    "bau = np.load('X.npy', allow_pickle=True)\n",
    "miao = np.load('y.npy', allow_pickle=True)"
   ]
  },
  {
   "cell_type": "code",
   "execution_count": 11,
   "metadata": {},
   "outputs": [
    {
     "data": {
      "text/plain": [
       "array([array([[ 80,  75,   3, ...,   0,   0,   0],\n",
       "       [  0,   0,   0, ...,   0,   0,   0],\n",
       "       [  0,   0,   0, ..., 106, 195,  48],\n",
       "       ...,\n",
       "       [128, 251, 242, ...,   0,   0,   0],\n",
       "       [  0,   0, 232, ...,   0,   0,   0],\n",
       "       [  0,   0,   0, ...,   0,   0,   0]], dtype=uint8),\n",
       "       array([[208, 207,  17, ..., 255, 255, 255],\n",
       "       [236, 165, 193, ...,   0,   0,   0],\n",
       "       [  0,   0,   0, ...,   0,   0,   0],\n",
       "       ...,\n",
       "       [ 73,  68,  61, ...,  10,   0,   0],\n",
       "       [ 80,   0,  82, ...,   0,   0,   0],\n",
       "       [  0,  77,  83, ...,   0,   0,   0]], dtype=uint8),\n",
       "       array([[208, 207,  17, ..., 255, 255, 255],\n",
       "       [236, 165, 193, ...,   0,   0,   0],\n",
       "       [  0,   0,   0, ...,   0,   0,   0],\n",
       "       ...,\n",
       "       [ 32,  32,  32, ...,  32,  32,  32],\n",
       "       [ 32,  32,  32, ...,  32,  32,  32],\n",
       "       [ 32,  32,  32, ...,   0,   0,   0]], dtype=uint8),\n",
       "       ...,\n",
       "       array([[ 80,  75,   3, ...,   0,   0,   0],\n",
       "       [  0,   0,   0, ...,  12,  10, 162],\n",
       "       [116, 118,  93, ..., 206,   1,  95],\n",
       "       ...,\n",
       "       [  0,   0,   0, ...,  98, 105, 110],\n",
       "       [ 80,  75,   1, ...,  80, 114, 111],\n",
       "       [112, 115,  47, ...,   0,   0,   0]], dtype=uint8),\n",
       "       array([[ 80,  75,   3, ...,  62,  58,  99],\n",
       "       [ 61,  61, 190, ...,   0,   0,   0],\n",
       "       [  0,   0,   0, ..., 203, 115, 214],\n",
       "       ...,\n",
       "       [242,  17, 148, ...,  47,  95, 114],\n",
       "       [101, 108, 115, ..., 101, 114,  83],\n",
       "       [101, 116, 116, ...,   0,   0,   0]], dtype=uint8),\n",
       "       array([[208, 207,  17, ..., 255, 255, 255],\n",
       "       [255, 255, 255, ..., 255, 255, 255],\n",
       "       [253, 255, 255, ...,   0,   0,   0],\n",
       "       ...,\n",
       "       [  1,   0,  67, ...,   0,   0,   0],\n",
       "       [  2,   0,   0, ...,  97, 110, 103],\n",
       "       [101, 115,   0, ...,   0,   0,   0]], dtype=uint8)], dtype=object)"
      ]
     },
     "execution_count": 11,
     "metadata": {},
     "output_type": "execute_result"
    }
   ],
   "source": [
    "bau"
   ]
  }
 ],
 "metadata": {
  "kernelspec": {
   "display_name": "Python 3",
   "language": "python",
   "name": "python3"
  },
  "language_info": {
   "codemirror_mode": {
    "name": "ipython",
    "version": 3
   },
   "file_extension": ".py",
   "mimetype": "text/x-python",
   "name": "python",
   "nbconvert_exporter": "python",
   "pygments_lexer": "ipython3",
   "version": "3.8.10"
  },
  "orig_nbformat": 4,
  "vscode": {
   "interpreter": {
    "hash": "e7370f93d1d0cde622a1f8e1c04877d8463912d04d973331ad4851f04de6915a"
   }
  }
 },
 "nbformat": 4,
 "nbformat_minor": 2
}
