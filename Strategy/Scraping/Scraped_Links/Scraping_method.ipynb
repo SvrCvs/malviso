{
  "nbformat": 4,
  "nbformat_minor": 0,
  "metadata": {
    "colab": {
      "provenance": []
    },
    "kernelspec": {
      "name": "python3",
      "display_name": "Python 3"
    },
    "language_info": {
      "name": "python"
    }
  },
  "cells": [
    {
      "cell_type": "code",
      "source": [
        "pip install beautifulsoup4"
      ],
      "metadata": {
        "colab": {
          "base_uri": "https://localhost:8080/"
        },
        "id": "QRGT3k9RG1hU",
        "outputId": "45e5bffb-4551-4789-cc4a-e42e6ad6c700"
      },
      "execution_count": 1,
      "outputs": [
        {
          "output_type": "stream",
          "name": "stdout",
          "text": [
            "Looking in indexes: https://pypi.org/simple, https://us-python.pkg.dev/colab-wheels/public/simple/\n",
            "Requirement already satisfied: beautifulsoup4 in /usr/local/lib/python3.9/dist-packages (4.9.3)\n",
            "Requirement already satisfied: soupsieve>1.2 in /usr/local/lib/python3.9/dist-packages (from beautifulsoup4) (2.4)\n"
          ]
        }
      ]
    },
    {
      "cell_type": "code",
      "source": [
        "pip install html5lib"
      ],
      "metadata": {
        "colab": {
          "base_uri": "https://localhost:8080/"
        },
        "id": "7x6LiNe7Hyit",
        "outputId": "5c2ad799-5b2a-4e5f-f0fc-e6ea064a88fb"
      },
      "execution_count": 2,
      "outputs": [
        {
          "output_type": "stream",
          "name": "stdout",
          "text": [
            "Looking in indexes: https://pypi.org/simple, https://us-python.pkg.dev/colab-wheels/public/simple/\n",
            "Requirement already satisfied: html5lib in /usr/local/lib/python3.9/dist-packages (1.0.1)\n",
            "Requirement already satisfied: webencodings in /usr/local/lib/python3.9/dist-packages (from html5lib) (0.5.1)\n",
            "Requirement already satisfied: six>=1.9 in /usr/local/lib/python3.9/dist-packages (from html5lib) (1.15.0)\n"
          ]
        }
      ]
    },
    {
      "cell_type": "code",
      "source": [
        "pip install requests"
      ],
      "metadata": {
        "colab": {
          "base_uri": "https://localhost:8080/"
        },
        "id": "fUaVfjX1H1pp",
        "outputId": "a4c239ab-8e22-45ad-a297-a479129ced6c"
      },
      "execution_count": 8,
      "outputs": [
        {
          "output_type": "stream",
          "name": "stdout",
          "text": [
            "Looking in indexes: https://pypi.org/simple, https://us-python.pkg.dev/colab-wheels/public/simple/\n",
            "Requirement already satisfied: requests in /usr/local/lib/python3.9/dist-packages (2.25.1)\n",
            "Requirement already satisfied: urllib3<1.27,>=1.21.1 in /usr/local/lib/python3.9/dist-packages (from requests) (1.26.14)\n",
            "Requirement already satisfied: idna<3,>=2.5 in /usr/local/lib/python3.9/dist-packages (from requests) (2.10)\n",
            "Requirement already satisfied: chardet<5,>=3.0.2 in /usr/local/lib/python3.9/dist-packages (from requests) (4.0.0)\n",
            "Requirement already satisfied: certifi>=2017.4.17 in /usr/local/lib/python3.9/dist-packages (from requests) (2022.12.7)\n"
          ]
        }
      ]
    },
    {
      "cell_type": "code",
      "source": [
        "import requests\n",
        "import time\n",
        "from bs4 import BeautifulSoup\n",
        "\n",
        "start = 0\n",
        "results = []\n",
        "#SEARCH_QUERIES = [None, 'financial spreadsheet', 'budget template', 'invoice template', 'finance', 'budget', 'business', 'invoice', 'curriculum', 'template', 'payslip', 'tax', 'receipt', 'contract', 'proposal', 'agreement', 'report', 'statement', 'analysis', 'data', 'database', 'payroll', 'resume', 'cv', 'application', 'form', 'survey', 'questionnaire', 'checklist', 'policy', 'procedure', 'guide', 'manual', 'presentation', 'briefing', 'memo', 'email'] 952\n",
        "\n",
        "#SEARCH_QUERIES = [None, 'financial spreadsheet', 'budget template', 'invoice template', 'finance', 'budget', 'business', 'invoice', 'curriculum', 'template', 'payslip', 'tax']\n",
        "#SEARCH_QUERIES = ['финансовая таблица', 'шаблон бюджета', 'шаблон счета-фактуры', 'финансы', 'бюджет', 'бизнес', 'счет-фактура', 'учебный план', 'шаблон', 'заработная плата', 'налог']\n",
        "#SEARCH_QUERIES = ['جدول بيانات مالية', 'قالب ميزانية', 'قالب فاتورة', 'تمويل', 'ميزانية', 'أعمال', 'فاتورة', 'منهاج دراسي', 'قالب', 'كشف راتب', 'ضريبة']\n",
        "#SEARCH_QUERIES = ['财务电子表格', '预算模板', '发票模板', '财务', '预算', '商业', '发票', '课程表', '模板', '工资单', '税']\n",
        "#SEARCH_QUERIES = ['tax', 'receipt', 'contract', 'proposal', 'agreement', 'report', 'statement', 'analysis', 'data', 'database']\n",
        "#SEARCH_QUERIES = ['database', 'payroll', 'resume', 'cv', 'application', 'form', 'survey', 'questionnaire', 'checklist', 'policy', 'procedure', 'guide', 'manual', 'presentation', 'briefing', 'memo', 'email']\n",
        "#SEARCH_QUERIES = ['policy', 'procedure', 'guide', 'manual', 'presentation', 'briefing', 'memo', 'email']\n",
        "\n",
        "#SEARCH_QUERIES = ['جدول بيانات مالية', 'قالب ميزانية', 'قالب فاتورة', 'تمويل', 'ميزانية', 'أعمال', 'فاتورة', 'منهاج دراسي', 'قالب', 'كشف راتب', 'ضريبة', 'إيصال', 'عقد', 'مقترح', 'اتفاقية', 'تقرير', 'بيان', 'تحليل', 'بيانات', 'قاعدة بيانات', 'كشف الرواتب', 'سيرة ذاتية', 'سيرة مهنية', 'تطبيق', 'نموذج', 'مسح', 'استبيان', 'قائمة تدقيق', 'سياسة', 'إجراء', 'دليل', 'كتيب', 'عرض تقديمي', 'إيجاز', 'مذكرة', 'بريد إلكتروني'] 3\n",
        "#SEARCH_QUERIES = ['финансовая таблица', 'шаблон бюджета', 'шаблон счета-фактуры', 'финансы', 'бюджет', 'бизнес', 'счет-фактура', 'учебный план', 'шаблон', 'заработная плата', 'налог', 'квитанция', 'контракт', 'предложение', 'соглашение', 'отчет', 'заявление', 'анализ', 'данные', 'база данных', 'зарплата', 'резюме', 'заявка', 'форма', 'опрос', 'анкета', 'чек-лист', 'политика', 'процедура', 'руководство', 'мануал', 'презентация', 'информационное сообщение', 'меморандум', 'электронное письмо'] 87\n",
        "SEARCH_QUERIES = ['财务电子表格', '预算模板', '发票模板', '财务', '预算', '商业', '发票', '课程表', '模板', '工资单', '税', '收据', '合同', '建议书', '协议', '报告', '声明', '分析', '数据', '数据库', '工资单', '简历', '履历', '申请', '表格', '调查', '问卷', '清单', '政策', '程序', '指南', '手册', '演示文稿', '简报', '备忘录', '电子邮件'] #12\n",
        "\n",
        "\n",
        "\n",
        "for query in SEARCH_QUERIES:\n",
        "  resultsFinished = False\n",
        "  start = 0\n",
        "  previousLength = 0\n",
        "  count = 0\n",
        "  while not resultsFinished:\n",
        "    url = f\"https://www.google.com/search?hl=it&q={query}+intent%3Axlsm%20filetype%3Axlsm&start={start}\"\n",
        "    r = requests.get(url)\n",
        "    soup = BeautifulSoup(r.content, 'html5lib')\n",
        "\n",
        "    articles = soup.findAll('div', {'class' : 'egMi0 kCrYT'})\n",
        "    \n",
        "    for article in articles:\n",
        "      anchor = article.find('a')\n",
        "      link = str(anchor).split('=')[2]\n",
        "      doc_link = link.split('&')[0]\n",
        "      results.append(doc_link)\n",
        "    \n",
        "    start += 10\n",
        "    time.sleep(1)\n",
        "    print(\"Res\", len(results), query)\n",
        "    \n",
        "    if (len(results) == previousLength):\n",
        "      count += 1\n",
        "    print(count)\n",
        "    previousLength = len(results)\n",
        "    \n",
        "    if count > 2:\n",
        "      resultsFinished = True\n",
        "    \n",
        "print(len(results))"
      ],
      "metadata": {
        "colab": {
          "base_uri": "https://localhost:8080/"
        },
        "id": "oNpYmrc5IElX",
        "outputId": "195bfade-6afe-4c5c-ac01-7533a5f52f7a"
      },
      "execution_count": 10,
      "outputs": [
        {
          "output_type": "stream",
          "name": "stdout",
          "text": [
            "Res 8 财务电子表格\n",
            "0\n",
            "Res 8 财务电子表格\n",
            "1\n",
            "Res 8 财务电子表格\n",
            "2\n",
            "Res 8 财务电子表格\n",
            "3\n",
            "Res 10 预算模板\n",
            "0\n",
            "Res 10 预算模板\n",
            "1\n",
            "Res 10 预算模板\n",
            "2\n",
            "Res 10 预算模板\n",
            "3\n",
            "Res 10 发票模板\n",
            "0\n",
            "Res 10 发票模板\n",
            "1\n",
            "Res 10 发票模板\n",
            "2\n",
            "Res 10 发票模板\n",
            "3\n",
            "Res 11 财务\n",
            "0\n",
            "Res 11 财务\n",
            "1\n",
            "Res 11 财务\n",
            "2\n",
            "Res 11 财务\n",
            "3\n",
            "Res 11 预算\n",
            "0\n",
            "Res 11 预算\n",
            "1\n",
            "Res 11 预算\n",
            "2\n",
            "Res 11 预算\n",
            "3\n",
            "Res 14 商业\n",
            "0\n",
            "Res 14 商业\n",
            "1\n",
            "Res 14 商业\n",
            "2\n",
            "Res 14 商业\n",
            "3\n",
            "Res 15 发票\n",
            "0\n",
            "Res 15 发票\n",
            "1\n",
            "Res 15 发票\n",
            "2\n",
            "Res 15 发票\n",
            "3\n",
            "Res 18 课程表\n",
            "0\n",
            "Res 18 课程表\n",
            "1\n",
            "Res 18 课程表\n",
            "2\n",
            "Res 18 课程表\n",
            "3\n",
            "Res 18 模板\n",
            "0\n",
            "Res 18 模板\n",
            "1\n",
            "Res 18 模板\n",
            "2\n",
            "Res 18 模板\n",
            "3\n",
            "Res 18 工资单\n",
            "0\n",
            "Res 18 工资单\n",
            "1\n",
            "Res 18 工资单\n",
            "2\n",
            "Res 18 工资单\n",
            "3\n",
            "Res 19 税\n",
            "0\n",
            "Res 19 税\n",
            "1\n",
            "Res 19 税\n",
            "2\n",
            "Res 19 税\n",
            "3\n",
            "Res 20 收据\n",
            "0\n",
            "Res 20 收据\n",
            "1\n",
            "Res 20 收据\n",
            "2\n",
            "Res 20 收据\n",
            "3\n",
            "Res 22 合同\n",
            "0\n",
            "Res 22 合同\n",
            "1\n",
            "Res 22 合同\n",
            "2\n",
            "Res 22 合同\n",
            "3\n",
            "Res 22 建议书\n",
            "0\n",
            "Res 22 建议书\n",
            "1\n",
            "Res 22 建议书\n",
            "2\n",
            "Res 22 建议书\n",
            "3\n",
            "Res 23 协议\n",
            "0\n",
            "Res 23 协议\n",
            "1\n",
            "Res 23 协议\n",
            "2\n",
            "Res 23 协议\n",
            "3\n",
            "Res 25 报告\n",
            "0\n",
            "Res 25 报告\n",
            "1\n",
            "Res 25 报告\n",
            "2\n",
            "Res 25 报告\n",
            "3\n",
            "Res 26 声明\n",
            "0\n",
            "Res 26 声明\n",
            "1\n",
            "Res 26 声明\n",
            "2\n",
            "Res 26 声明\n",
            "3\n",
            "Res 28 分析\n",
            "0\n",
            "Res 28 分析\n",
            "1\n",
            "Res 28 分析\n",
            "2\n",
            "Res 28 分析\n",
            "3\n",
            "Res 29 数据\n",
            "0\n",
            "Res 29 数据\n",
            "1\n",
            "Res 29 数据\n",
            "2\n",
            "Res 29 数据\n",
            "3\n",
            "Res 29 数据库\n",
            "0\n",
            "Res 29 数据库\n",
            "1\n",
            "Res 29 数据库\n",
            "2\n",
            "Res 29 数据库\n",
            "3\n",
            "Res 29 工资单\n",
            "0\n",
            "Res 29 工资单\n",
            "1\n",
            "Res 29 工资单\n",
            "2\n",
            "Res 29 工资单\n",
            "3\n",
            "Res 29 简历\n",
            "0\n",
            "Res 29 简历\n",
            "1\n",
            "Res 29 简历\n",
            "2\n",
            "Res 29 简历\n",
            "3\n",
            "Res 29 履历\n",
            "0\n",
            "Res 29 履历\n",
            "1\n",
            "Res 29 履历\n",
            "2\n",
            "Res 29 履历\n",
            "3\n",
            "Res 30 申请\n",
            "0\n",
            "Res 30 申请\n",
            "1\n",
            "Res 30 申请\n",
            "2\n",
            "Res 30 申请\n",
            "3\n",
            "Res 35 表格\n",
            "0\n",
            "Res 35 表格\n",
            "1\n",
            "Res 35 表格\n",
            "2\n",
            "Res 35 表格\n",
            "3\n",
            "Res 36 调查\n",
            "0\n",
            "Res 36 调查\n",
            "1\n",
            "Res 36 调查\n",
            "2\n",
            "Res 36 调查\n",
            "3\n",
            "Res 37 问卷\n",
            "0\n",
            "Res 37 问卷\n",
            "1\n",
            "Res 37 问卷\n",
            "2\n",
            "Res 37 问卷\n",
            "3\n",
            "Res 38 清单\n",
            "0\n",
            "Res 38 清单\n",
            "1\n",
            "Res 38 清单\n",
            "2\n",
            "Res 38 清单\n",
            "3\n",
            "Res 39 政策\n",
            "0\n",
            "Res 39 政策\n",
            "1\n",
            "Res 39 政策\n",
            "2\n",
            "Res 39 政策\n",
            "3\n",
            "Res 39 程序\n",
            "0\n",
            "Res 39 程序\n",
            "1\n",
            "Res 39 程序\n",
            "2\n",
            "Res 39 程序\n",
            "3\n",
            "Res 39 指南\n",
            "0\n",
            "Res 39 指南\n",
            "1\n",
            "Res 39 指南\n",
            "2\n",
            "Res 39 指南\n",
            "3\n",
            "Res 39 手册\n",
            "0\n",
            "Res 39 手册\n",
            "1\n",
            "Res 39 手册\n",
            "2\n",
            "Res 39 手册\n",
            "3\n",
            "Res 39 演示文稿\n",
            "0\n",
            "Res 39 演示文稿\n",
            "1\n",
            "Res 39 演示文稿\n",
            "2\n",
            "Res 39 演示文稿\n",
            "3\n",
            "Res 39 简报\n",
            "0\n",
            "Res 39 简报\n",
            "1\n",
            "Res 39 简报\n",
            "2\n",
            "Res 39 简报\n",
            "3\n",
            "Res 40 备忘录\n",
            "0\n",
            "Res 40 备忘录\n",
            "1\n",
            "Res 40 备忘录\n",
            "2\n",
            "Res 40 备忘录\n",
            "3\n",
            "Res 50 电子邮件\n",
            "0\n",
            "Res 60 电子邮件\n",
            "0\n",
            "Res 70 电子邮件\n",
            "0\n",
            "Res 80 电子邮件\n",
            "0\n",
            "Res 90 电子邮件\n",
            "0\n",
            "Res 100 电子邮件\n",
            "0\n",
            "Res 110 电子邮件\n",
            "0\n",
            "Res 120 电子邮件\n",
            "0\n",
            "Res 130 电子邮件\n",
            "0\n",
            "Res 140 电子邮件\n",
            "0\n",
            "Res 150 电子邮件\n",
            "0\n",
            "Res 151 电子邮件\n",
            "0\n",
            "Res 151 电子邮件\n",
            "1\n",
            "Res 151 电子邮件\n",
            "2\n",
            "Res 151 电子邮件\n",
            "3\n",
            "151\n"
          ]
        }
      ]
    },
    {
      "cell_type": "code",
      "source": [
        "all_results = []\n",
        "results_noduplicate = list(dict.fromkeys(results))\n",
        "all_results += results_noduplicate\n",
        "print(len(all_results))\n",
        "print(len(results_noduplicate))"
      ],
      "metadata": {
        "colab": {
          "base_uri": "https://localhost:8080/"
        },
        "id": "6Ayyu4VBAHte",
        "outputId": "bd55addd-7119-4db7-bcf6-75cec0476ffa"
      },
      "execution_count": 11,
      "outputs": [
        {
          "output_type": "stream",
          "name": "stdout",
          "text": [
            "129\n",
            "129\n"
          ]
        }
      ]
    },
    {
      "cell_type": "code",
      "source": [
        "from google.colab import drive\n",
        "drive.mount('/content/drive')"
      ],
      "metadata": {
        "colab": {
          "base_uri": "https://localhost:8080/"
        },
        "id": "vs8f9TfTAYFs",
        "outputId": "534991c1-a844-48b2-e308-50265796b1fc"
      },
      "execution_count": 12,
      "outputs": [
        {
          "output_type": "stream",
          "name": "stdout",
          "text": [
            "Mounted at /content/drive\n"
          ]
        }
      ]
    },
    {
      "cell_type": "markdown",
      "source": [
        "Recupera la versione attuale della lista di link"
      ],
      "metadata": {
        "id": "KTtcQp-YM-UW"
      }
    },
    {
      "cell_type": "code",
      "source": [
        "import pandas as pd\n",
        "\n",
        "# Define the path to the folder in your Google Drive\n",
        "folder_path = '/content/drive/MyDrive/Scraped_Links'\n",
        "\n",
        "# Define the filename of the CSV file in the folder\n",
        "filename = 'all_results.csv'\n",
        "\n",
        "# Define the path to the CSV file in your Google Drive\n",
        "csv_path = folder_path + '/' + filename\n",
        "\n",
        "# Read the CSV file into a pandas DataFrame\n",
        "df = pd.read_csv(csv_path)\n",
        "\n",
        "# Convert the DataFrame to a list (and flatten it)\n",
        "\n",
        "result_list = [item for sublist in df.values.tolist() for item in sublist]\n"
      ],
      "metadata": {
        "id": "EEwsdXo2CBbm"
      },
      "execution_count": 13,
      "outputs": []
    },
    {
      "cell_type": "markdown",
      "source": [
        "Aggiorna la lista di link con la nuova search e tira via i doppioni"
      ],
      "metadata": {
        "id": "PHpQC8msNFQG"
      }
    },
    {
      "cell_type": "code",
      "source": [
        "all_results = all_results + result_list\n",
        "\n",
        "all_results\n",
        "\n",
        "all_results = list(dict.fromkeys(all_results))\n",
        "len(all_results)"
      ],
      "metadata": {
        "colab": {
          "base_uri": "https://localhost:8080/"
        },
        "id": "6eMPkAoLHVHv",
        "outputId": "4871fa37-2cdc-4597-9179-0dced7025088"
      },
      "execution_count": 14,
      "outputs": [
        {
          "output_type": "execute_result",
          "data": {
            "text/plain": [
              "1065"
            ]
          },
          "metadata": {},
          "execution_count": 14
        }
      ]
    },
    {
      "cell_type": "markdown",
      "source": [
        "Libera il folder dalla vecchia versione della lista"
      ],
      "metadata": {
        "id": "r89goafBM13U"
      }
    },
    {
      "cell_type": "code",
      "source": [
        "import os\n",
        "\n",
        "# Set the path to the folder in your Google Drive\n",
        "folder_path = '/content/drive/MyDrive/Scraped_Links'\n",
        "\n",
        "# Loop through all files in the folder and delete them\n",
        "for filename in os.listdir(folder_path):\n",
        "    file_path = os.path.join(folder_path, filename)\n",
        "    if os.path.isfile(file_path):\n",
        "        os.remove(file_path)\n"
      ],
      "metadata": {
        "id": "UWO4y2GHKMyv"
      },
      "execution_count": 15,
      "outputs": []
    },
    {
      "cell_type": "markdown",
      "source": [
        "Carica i nuovi link"
      ],
      "metadata": {
        "id": "s8k0QzNpMyZA"
      }
    },
    {
      "cell_type": "code",
      "source": [
        "import json\n",
        "import pandas as pd\n",
        "\n",
        "# Write results to JSON file\n",
        "with open(\"all_results.json\", 'w') as f:\n",
        "    # indent=2 is not needed but makes the file human-readable \n",
        "    # if the data is nested\n",
        "    json.dump(all_results, f, indent=2) \n",
        "\n",
        "# Read results from JSON file and convert to DataFrame\n",
        "with open(\"all_results.json\", 'r') as f:\n",
        "    all_results = json.load(f)\n",
        "df = pd.DataFrame(all_results)\n",
        "\n",
        "# Define the path to the folder in your Google Drive\n",
        "folder_path = '/content/drive/MyDrive/Scraped_Links'\n",
        "\n",
        "# Save the DataFrame as a CSV file in your Google Drive\n",
        "csv_path = folder_path + '/all_results.csv'\n",
        "df.to_csv(csv_path, index=False)\n",
        "\n",
        "print('CSV file saved to:', csv_path)\n"
      ],
      "metadata": {
        "colab": {
          "base_uri": "https://localhost:8080/"
        },
        "id": "1xgakpbaMoqA",
        "outputId": "076f96e6-7fbc-4ca4-e3ad-eb3f768ce6ee"
      },
      "execution_count": 16,
      "outputs": [
        {
          "output_type": "stream",
          "name": "stdout",
          "text": [
            "CSV file saved to: /content/drive/MyDrive/Scraped_Links/all_results.csv\n"
          ]
        }
      ]
    },
    {
      "cell_type": "markdown",
      "source": [
        "La query completa tradotta (con google traduttore) in [Arabo,Russo,Cinese] ha portato rispettivamente [3,87,12] risultati nuovi. Per un totale di 1065 file excel."
      ],
      "metadata": {
        "id": "-aQOje99TcgK"
      }
    }
  ]
}